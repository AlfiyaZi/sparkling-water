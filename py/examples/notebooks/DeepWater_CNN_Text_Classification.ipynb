{
 "cells": [
  {
   "cell_type": "markdown",
   "metadata": {},
   "source": [
    "# Text classification using a TensorFlow CNN in DeepWater on SparklingWater "
   ]
  },
  {
   "cell_type": "markdown",
   "metadata": {},
   "source": [
    "This notebook is based on:\n",
    "\n",
    "* [Convolutional Neural Networks for Sentence Classification paper](https://arxiv.org/abs/1408.5882)\n",
    "* http://www.wildml.com/2015/12/implementing-a-cnn-for-text-classification-in-tensorflow/\n",
    "\n",
    "With a few tweaks which I will mention down the road.\n",
    "\n",
    "This notebook will build a Convolutional Neural Network in TensorFlow for sentence sentiment analysis using Rotten Tomatoes\n",
    "movie review sentences for training (where negative reviews will be labeled with a score of 0, positive with a score of 1 and neutral with a 0.5)."
   ]
  },
  {
   "cell_type": "markdown",
   "metadata": {},
   "source": [
    "## Data preparation"
   ]
  },
  {
   "cell_type": "code",
   "execution_count": 7,
   "metadata": {
    "collapsed": false
   },
   "outputs": [],
   "source": [
    "from urllib.request import urlopen\n",
    "import re\n",
    "\n",
    "def clean_str(string):\n",
    "    \"\"\"\n",
    "    Tokenization/string cleaning for all datasets except for SST.\n",
    "    Original taken from https://github.com/yoonkim/CNN_sentence/blob/master/process_data.py\n",
    "    \"\"\"\n",
    "    string = re.sub(r\"[^A-Za-z0-9(),!?\\'\\`]\", \" \", string)\n",
    "    string = re.sub(r\"\\'s\", \" \\'s\", string)\n",
    "    string = re.sub(r\"\\'ve\", \" \\'ve\", string)\n",
    "    string = re.sub(r\"n\\'t\", \" n\\'t\", string)\n",
    "    string = re.sub(r\"\\'re\", \" \\'re\", string)\n",
    "    string = re.sub(r\"\\'d\", \" \\'d\", string)\n",
    "    string = re.sub(r\"\\'ll\", \" \\'ll\", string)\n",
    "    string = re.sub(r\",\", \" , \", string)\n",
    "    string = re.sub(r\"!\", \" ! \", string)\n",
    "    string = re.sub(r\"\\(\", \" \\( \", string)\n",
    "    string = re.sub(r\"\\)\", \" \\) \", string)\n",
    "    string = re.sub(r\"\\?\", \" \\? \", string)\n",
    "    string = re.sub(r\"\\s{2,}\", \" \", string)\n",
    "    return string.strip().lower()\n",
    "\n",
    "def load_data_and_labels():\n",
    "    \"\"\"\n",
    "    Loads MR polarity data from files, splits the data into words and generates labels.\n",
    "    Returns split sentences and labels.\n",
    "    \"\"\"\n",
    "    # Pull scentences with positive sentiment\n",
    "    pos_file = urlopen('https://raw.githubusercontent.com/yoonkim/CNN_sentence/master/rt-polarity.pos')\n",
    "    # Pull scentences with negative sentiment\n",
    "    neg_file = urlopen('https://raw.githubusercontent.com/yoonkim/CNN_sentence/master/rt-polarity.neg')\n",
    "    \n",
    "    # Load data from files and add labels\n",
    "    positive_examples = sc.parallelize(pos_file.readlines()).map(lambda s: (1, s.decode('latin-1').strip()))\n",
    "    negative_examples = sc.parallelize(neg_file.readlines()).map(lambda s: (0, s.decode('latin-1').strip()))\n",
    "    \n",
    "    # Split by words\n",
    "    labeled = positive_examples.union(negative_examples).map(lambda ls: (ls[0], clean_str(ls[1]).split(\" \")))\n",
    "    return labeled\n",
    "    \n",
    "def pad_sentences(sentences, padding_word=\"</s>\"):\n",
    "    \"\"\"\n",
    "    Pads all sentences to the same length. The length is defined by the longest sentence.\n",
    "    Returns padded sentences.\n",
    "    \"\"\"\n",
    "    sequence_length = sentences.values().map(lambda a: len(a)).max()\n",
    "    sentences.map(lambda ls: (ls[0], ls[1] + [padding_word] * (sequence_length - len(ls[1]))))\n",
    "    return sentences\n",
    "    \n",
    "# TODO rewrite to Spark\n",
    "def build_input_data(sentences, vocab_size):\n",
    "    \"\"\"\n",
    "    Maps sentences to vector representations.\n",
    "    \"\"\"\n",
    "    hashingTF = HashingTF(vocab_size)\n",
    "    return sentences.map(lambda ls: (ls[0], hashingTF.transform(ls[1])))\n",
    "\n",
    "vocab_size = 65536\n",
    "\n",
    "labeled_sentences = load_data_and_labels()\n",
    "padded_senteces = pad_sentences(labeled_sentences)\n",
    "\n",
    "vectorized_sentences = build_input_data(padded_senteces, vocab_size)"
   ]
  },
  {
   "cell_type": "markdown",
   "metadata": {},
   "source": [
    "## Architecting the network"
   ]
  },
  {
   "cell_type": "code",
   "execution_count": 1,
   "metadata": {
    "collapsed": true
   },
   "outputs": [],
   "source": [
    "import tensorflow as tf\n",
    "\n",
    "# Placeholder for input data\n",
    "input_x = tf.placeholder(tf.int32, [None, sequence_length], name=\"input_x\")\n",
    "# Placeholder for output label\n",
    "input_y = tf.placeholder(tf.float32, [None, 2], name=\"input_y\")\n",
    "\n",
    "dropout_keep_prob = tf.placeholder(tf.float32, name=\"dropout_keep_prob\")\n",
    "\n",
    "# Embedding layer - learns how to represent words in lower dimension subspace\n",
    "\n",
    "# Dimensions to embed words into\n",
    "num_embed = 300\n",
    "\n",
    "# Change to /gpu:0 for GPU computation\n",
    "with tf.device('/cpu:0'), tf.name_scope(\"embedding\"):\n",
    "    W = tf.Variable(\n",
    "        tf.random_uniform([vocab_size, num_embed], -1.0, 1.0),\n",
    "        name=\"W\")\n",
    "    embedded_chars = tf.nn.embedding_lookup(W, input_x)\n",
    "    embedded_chars_expanded = ``tf.expand_dims(embedded_chars, -1)"
   ]
  },
  {
   "cell_type": "markdown",
   "metadata": {},
   "source": [
    "## Bootstrapping SparklingWater"
   ]
  },
  {
   "cell_type": "markdown",
   "metadata": {},
   "source": [
    "## Learning using DeepWater "
   ]
  },
  {
   "cell_type": "code",
   "execution_count": null,
   "metadata": {
    "collapsed": true
   },
   "outputs": [],
   "source": [
    ""
   ]
  }
 ],
 "metadata": {
  "anaconda-cloud": {},
  "kernelspec": {
   "display_name": "Python [conda env:tensorflow]",
   "language": "python",
   "name": "conda-env-tensorflow-py"
  },
  "language_info": {
   "codemirror_mode": {
    "name": "ipython",
    "version": 3.0
   },
   "file_extension": ".py",
   "mimetype": "text/x-python",
   "name": "python",
   "nbconvert_exporter": "python",
   "pygments_lexer": "ipython3",
   "version": "3.5.2"
  }
 },
 "nbformat": 4,
 "nbformat_minor": 0
}